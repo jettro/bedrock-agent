{
 "cells": [
  {
   "cell_type": "markdown",
   "id": "0",
   "metadata": {},
   "source": [
    "# Amazon Bedrock Agent ~ The CRM Example\n",
    "Before running this notebook, make sure you have the following:\n",
    "- AWS CLI installed and configured with your credentials.\n",
    "- Access to the Amazon Bedrock service and the configured foundational model.\n",
    "\n",
    "The goal of this notebook is to demonstrate the basic usage of the Amazon Bedrock Inline Agent."
   ]
  },
  {
   "cell_type": "code",
   "execution_count": null,
   "id": "1",
   "metadata": {},
   "outputs": [],
   "source": [
    "import boto3\n",
    "from dotenv import load_dotenv\n",
    "\n",
    "from bedrock_agent.crm.marketing_agent import MarketingAgent"
   ]
  },
  {
   "cell_type": "markdown",
   "id": "2",
   "metadata": {},
   "source": [
    "Load environment variables and set up the AWS client"
   ]
  },
  {
   "cell_type": "code",
   "execution_count": null,
   "id": "3",
   "metadata": {},
   "outputs": [],
   "source": [
    "_ = load_dotenv()\n",
    "\n",
    "# Register new client using AWS CLI Authentication and our default region\n",
    "region = \"eu-west-1\"\n",
    "bedrock_rt_client = boto3.client(\n",
    "    \"bedrock-agent-runtime\",\n",
    "    region_name=region\n",
    ")\n"
   ]
  },
  {
   "cell_type": "markdown",
   "id": "4",
   "metadata": {},
   "source": [
    "Initialize the Marketing Agent with defaults. You can pass a different foundational model and session ID if needed."
   ]
  },
  {
   "cell_type": "code",
   "execution_count": null,
   "id": "5",
   "metadata": {},
   "outputs": [],
   "source": [
    "marketing_agent = MarketingAgent()"
   ]
  },
  {
   "cell_type": "markdown",
   "id": "6",
   "metadata": {},
   "source": [
    "Create the request parameters by adding the question to the input text. Call the inline agent with the request parameters."
   ]
  },
  {
   "cell_type": "code",
   "execution_count": null,
   "id": "7",
   "metadata": {},
   "outputs": [],
   "source": [
    "request_params = marketing_agent.prepare_input(input_text=\"What is the mission of your company?\")\n",
    "\n",
    "_agent_resp = bedrock_rt_client.invoke_inline_agent(\n",
    "    **request_params\n",
    ")"
   ]
  },
  {
   "cell_type": "markdown",
   "id": "8",
   "metadata": {},
   "source": [
    "Handle the response from the agent. The response is in a stream format, so we need to decode it and print it."
   ]
  },
  {
   "cell_type": "code",
   "execution_count": null,
   "id": "9",
   "metadata": {},
   "outputs": [],
   "source": [
    "if _agent_resp[\"ResponseMetadata\"][\"HTTPStatusCode\"] != 200:\n",
    "    _error_message = f\"API Response was not 200: {_agent_resp}\"\n",
    "    print(_error_message)\n",
    "else:\n",
    "    try:\n",
    "        _event_stream = _agent_resp[\"completion\"]\n",
    "        _agent_answer = \"\"\n",
    "        for _event in _event_stream:\n",
    "\n",
    "            if \"chunk\" in _event:\n",
    "                _data = _event[\"chunk\"][\"bytes\"]\n",
    "                _agent_answer = _data.decode(\"utf8\")\n",
    "\n",
    "        print(f\"Agent response:\\n{_agent_answer}\")\n",
    "    except Exception as e:\n",
    "        print(f\"Caught exception while processing input to invokeAgent:\\n\")\n",
    "        print(f\"Error: {e}\")\n"
   ]
  },
  {
   "cell_type": "markdown",
   "id": "10",
   "metadata": {},
   "source": [
    "The response contains a lot more information than just the answer."
   ]
  }
 ],
 "metadata": {
  "kernelspec": {
   "display_name": "Python 3",
   "language": "python",
   "name": "python3"
  },
  "language_info": {
   "codemirror_mode": {
    "name": "ipython",
    "version": 2
   },
   "file_extension": ".py",
   "mimetype": "text/x-python",
   "name": "python",
   "nbconvert_exporter": "python",
   "pygments_lexer": "ipython2",
   "version": "2.7.6"
  }
 },
 "nbformat": 4,
 "nbformat_minor": 5
}
