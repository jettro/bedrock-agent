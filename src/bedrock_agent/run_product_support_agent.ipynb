{
 "cells": [
  {
   "cell_type": "code",
   "execution_count": null,
   "id": "0",
   "metadata": {
    "vscode": {
     "languageId": "plaintext"
    }
   },
   "outputs": [],
   "source": [
    "import os\n",
    "\n",
    "from dotenv import load_dotenv\n",
    "import boto3\n",
    "\n",
    "from bedrock_agent.crm.product_support_agent import ProductSupportAgent\n",
    "from bedrock_agent.utils.inline_agent_utils import invoke_inline_agent_helper\n"
   ]
  },
  {
   "cell_type": "code",
   "execution_count": null,
   "id": "1",
   "metadata": {
    "vscode": {
     "languageId": "plaintext"
    }
   },
   "outputs": [],
   "source": [
    "_ = load_dotenv()\n",
    "\n",
    "# Register new client using AWS CLI Authentication and our default region\n",
    "region = \"eu-west-1\"\n",
    "bedrock_rt_client = boto3.client(\n",
    "    \"bedrock-agent-runtime\",\n",
    "    region_name=region\n",
    ")\n"
   ]
  },
  {
   "cell_type": "code",
   "execution_count": null,
   "id": "2",
   "metadata": {
    "vscode": {
     "languageId": "plaintext"
    }
   },
   "outputs": [],
   "source": [
    "product_support_agent = ProductSupportAgent(aws_region=region, foundational_model=\"eu.amazon.nova-lite-v1:0\", knowledge_base_id=os.environ[\"KNOWLEDGE_BASE_ID\"])"
   ]
  },
  {
   "cell_type": "code",
   "execution_count": null,
   "id": "3",
   "metadata": {
    "vscode": {
     "languageId": "plaintext"
    }
   },
   "outputs": [],
   "source": [
    "request_params = product_support_agent.prepare_input(input_text=\"Do you have information about a headphone with support for Bluetooth?\")\n",
    "\n",
    "invoke_inline_agent_helper(\n",
    "    bedrock_rt_client,\n",
    "    request_params,\n",
    "    trace_level=\"core\",\n",
    ")"
   ]
  },
  {
   "cell_type": "code",
   "execution_count": null,
   "id": "4",
   "metadata": {},
   "outputs": [],
   "source": [
    "request_params = product_support_agent.prepare_input(input_text=\"I am looking for a device to monitor my heartbeat?\")\n",
    "\n",
    "invoke_inline_agent_helper(\n",
    "    bedrock_rt_client,\n",
    "    request_params,\n",
    "    trace_level=\"core\",\n",
    ")"
   ]
  },
  {
   "cell_type": "code",
   "execution_count": null,
   "id": "5",
   "metadata": {},
   "outputs": [],
   "source": []
  }
 ],
 "metadata": {
  "language_info": {
   "name": "python"
  }
 },
 "nbformat": 4,
 "nbformat_minor": 5
}
