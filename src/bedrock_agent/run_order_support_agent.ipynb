{
 "cells": [
  {
   "cell_type": "markdown",
   "id": "0",
   "metadata": {},
   "source": [
    "# Amazon Bedrock Agent ~ The CRM Example\n",
    "Before running this notebook, make sure you have the following:\n",
    "- AWS CLI installed and configured with your credentials.\n",
    "- Access to the Amazon Bedrock service and the configured foundational model.\n",
    "\n",
    "The goal of this notebook is to demonstrate adding an ActionGroup to the Amazon Bedrock Inline Agent. A Lambda function will be created to handle the action group. An S3 Bucket to contain order data will also be created."
   ]
  },
  {
   "cell_type": "code",
   "execution_count": null,
   "id": "1",
   "metadata": {},
   "outputs": [],
   "source": [
    "from dotenv import load_dotenv\n",
    "import boto3\n",
    "\n",
    "from bedrock_agent.crm.orders_support_agent import OrderSupportAgent\n",
    "from bedrock_agent.utils.inline_agent_utils import invoke_inline_agent_helper"
   ]
  },
  {
   "cell_type": "code",
   "execution_count": null,
   "id": "2",
   "metadata": {},
   "outputs": [],
   "source": [
    "_ = load_dotenv()\n",
    "\n",
    "# Register new client using AWS CLI Authentication and our default region\n",
    "region = \"eu-west-1\"\n",
    "bedrock_rt_client = boto3.client(\n",
    "    \"bedrock-agent-runtime\",\n",
    "    region_name=region\n",
    ")\n"
   ]
  },
  {
   "cell_type": "markdown",
   "id": "3",
   "metadata": {},
   "source": [
    "Initialize the Order Support Agent with defaults. You can pass a different foundational model and session ID if needed."
   ]
  },
  {
   "cell_type": "code",
   "execution_count": null,
   "id": "4",
   "metadata": {},
   "outputs": [],
   "source": [
    "order_support_agent = OrderSupportAgent(aws_region=region, foundational_model=\"eu.amazon.nova-lite-v1:0\")\n",
    "# order_support_agent = OrderSupportAgent(aws_region=region, foundational_model=\"eu.anthropic.claude-3-5-sonnet-20240620-v1:0\")"
   ]
  },
  {
   "cell_type": "markdown",
   "id": "5",
   "metadata": {},
   "source": [
    "With the Action Group present, the output of the Agent contains a lot more interesting information than just the answer. Therefore we use a function obtained from one of the AWS examples, tweaked it a little bit. Calling the agent and showing the response is done using this new function."
   ]
  },
  {
   "cell_type": "code",
   "execution_count": null,
   "id": "6",
   "metadata": {},
   "outputs": [],
   "source": [
    "request_params = order_support_agent.prepare_input(input_text=\"What is the status of my order with ID 123\")\n",
    "\n",
    "invoke_inline_agent_helper(\n",
    "    bedrock_rt_client,\n",
    "    request_params,\n",
    "    trace_level=\"core\",\n",
    ")"
   ]
  },
  {
   "cell_type": "code",
   "execution_count": null,
   "id": "7",
   "metadata": {},
   "outputs": [],
   "source": [
    "request_params = order_support_agent.prepare_input(input_text=\"Create a new order with id 225. The customer is Roberto. He wants to order 1 pizza and 1 salad, total for the order is 30.\")\n",
    "\n",
    "invoke_inline_agent_helper(\n",
    "    bedrock_rt_client,\n",
    "    request_params,\n",
    "    trace_level=\"all\",\n",
    ")"
   ]
  },
  {
   "cell_type": "code",
   "execution_count": null,
   "id": "8",
   "metadata": {},
   "outputs": [],
   "source": [
    "# Cleanup everything\n",
    "# order_support_agent.clean_up()"
   ]
  },
  {
   "cell_type": "code",
   "execution_count": null,
   "id": "9",
   "metadata": {},
   "outputs": [],
   "source": []
  }
 ],
 "metadata": {
  "kernelspec": {
   "display_name": "Python 3",
   "language": "python",
   "name": "python3"
  },
  "language_info": {
   "codemirror_mode": {
    "name": "ipython",
    "version": 2
   },
   "file_extension": ".py",
   "mimetype": "text/x-python",
   "name": "python",
   "nbconvert_exporter": "python",
   "pygments_lexer": "ipython2",
   "version": "2.7.6"
  }
 },
 "nbformat": 4,
 "nbformat_minor": 5
}
