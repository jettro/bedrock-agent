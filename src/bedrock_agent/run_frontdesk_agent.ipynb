{
 "cells": [
  {
   "cell_type": "code",
   "execution_count": null,
   "id": "0",
   "metadata": {},
   "outputs": [],
   "source": [
    "import os\n",
    "\n",
    "from dotenv import load_dotenv\n",
    "import boto3\n",
    "\n",
    "from bedrock_agent.crm.frontdesk_agent import FrontDeskAgent\n",
    "from bedrock_agent.crm.marketing_agent import MarketingAgent\n",
    "from bedrock_agent.crm.orders_support_agent import OrderSupportAgent\n",
    "from bedrock_agent.crm.product_support_agent import ProductSupportAgent\n",
    "from bedrock_agent.utils.inline_agent_utils import invoke_inline_agent_helper"
   ]
  },
  {
   "cell_type": "code",
   "execution_count": null,
   "id": "1",
   "metadata": {},
   "outputs": [],
   "source": [
    "_ = load_dotenv()\n",
    "\n",
    "# Register new client using AWS CLI Authentication and our default region\n",
    "region = \"eu-west-1\"\n",
    "bedrock_rt_client = boto3.client(\n",
    "    \"bedrock-agent-runtime\",\n",
    "    region_name=region\n",
    ")\n"
   ]
  },
  {
   "cell_type": "code",
   "execution_count": null,
   "id": "2",
   "metadata": {},
   "outputs": [],
   "source": [
    "foundational_model = \"eu.amazon.nova-lite-v1:0\"\n",
    "\n",
    "order_support_agent = OrderSupportAgent(aws_region=region, foundational_model=foundational_model)\n",
    "marketing_agent = MarketingAgent(foundational_model=foundational_model)\n",
    "product_support_agent = ProductSupportAgent(foundational_model=foundational_model,\n",
    "                                            knowledge_base_id=os.environ[\"KNOWLEDGE_BASE_ID\"],\n",
    "                                            aws_region=region)\n",
    "front_desk_agent = FrontDeskAgent(foundational_model=foundational_model,\n",
    "                                  order_support_agent=order_support_agent,\n",
    "                                  marketing_agent=marketing_agent,\n",
    "                                  product_support_agent=product_support_agent)"
   ]
  },
  {
   "cell_type": "code",
   "execution_count": null,
   "id": "3",
   "metadata": {},
   "outputs": [],
   "source": [
    "request_params = front_desk_agent.prepare_input(input_text=\"I want to order a device to monitor my heartrate\")\n",
    "\n",
    "invoke_inline_agent_helper(\n",
    "    bedrock_rt_client,\n",
    "    request_params,\n",
    "    trace_level=\"core\",\n",
    ")"
   ]
  },
  {
   "cell_type": "code",
   "execution_count": null,
   "id": "4",
   "metadata": {},
   "outputs": [],
   "source": [
    "request_params = front_desk_agent.prepare_input(\n",
    "    input_text=\"Can you first suggest a product for my needs?\")\n",
    "\n",
    "invoke_inline_agent_helper(\n",
    "    bedrock_rt_client,\n",
    "    request_params,\n",
    "    trace_level=\"core\",\n",
    ")"
   ]
  },
  {
   "cell_type": "code",
   "execution_count": null,
   "id": "5",
   "metadata": {},
   "outputs": [],
   "source": [
    "request_params = front_desk_agent.prepare_input(input_text=\"I like that, can I order it for 99 with ID 500, I am Jettro?\")\n",
    "\n",
    "invoke_inline_agent_helper(\n",
    "    bedrock_rt_client,\n",
    "    request_params,\n",
    "    trace_level=\"core\",\n",
    ")"
   ]
  },
  {
   "cell_type": "code",
   "execution_count": null,
   "id": "6",
   "metadata": {},
   "outputs": [],
   "source": []
  }
 ],
 "metadata": {
  "kernelspec": {
   "display_name": "Python 3",
   "language": "python",
   "name": "python3"
  },
  "language_info": {
   "codemirror_mode": {
    "name": "ipython",
    "version": 2
   },
   "file_extension": ".py",
   "mimetype": "text/x-python",
   "name": "python",
   "nbconvert_exporter": "python",
   "pygments_lexer": "ipython2",
   "version": "2.7.6"
  }
 },
 "nbformat": 4,
 "nbformat_minor": 5
}
